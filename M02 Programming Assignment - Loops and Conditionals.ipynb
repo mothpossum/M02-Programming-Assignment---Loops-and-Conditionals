{
 "cells": [
  {
   "cell_type": "code",
   "execution_count": 2,
   "id": "eabb8517",
   "metadata": {},
   "outputs": [
    {
     "name": "stdout",
     "output_type": "stream",
     "text": [
      "Too high!\n",
      "Enter number again: 6\n",
      "Too high!\n",
      "Enter number again: 5\n",
      "right!!\n"
     ]
    }
   ],
   "source": [
    "secret = 5\n",
    "guess = 6\n",
    "\n",
    "while secret != guess:\n",
    "    if guess < secret:\n",
    "        print(\"Too low\")\n",
    "        guess = int(input(\"Enter number again: \"))\n",
    "    elif guess > secret:\n",
    "        print(\"Too high!\")\n",
    "        guess = int(input(\"Enter number again: \"))\n",
    "    else:\n",
    "      break\n",
    "print(\".right!!\")"
   ]
  },
  {
   "cell_type": "code",
   "execution_count": 16,
   "id": "23720cd1",
   "metadata": {},
   "outputs": [
    {
     "ename": "SyntaxError",
     "evalue": "invalid syntax (4017439217.py, line 8)",
     "output_type": "error",
     "traceback": [
      "\u001b[1;36m  File \u001b[1;32m\"C:\\Users\\Seth\\AppData\\Local\\Temp\\ipykernel_45284\\4017439217.py\"\u001b[1;36m, line \u001b[1;32m8\u001b[0m\n\u001b[1;33m    else:\u001b[0m\n\u001b[1;37m    ^\u001b[0m\n\u001b[1;31mSyntaxError\u001b[0m\u001b[1;31m:\u001b[0m invalid syntax\n"
     ]
    }
   ],
   "source": [
    "green = True\n",
    "small = True\n",
    "if green:\n",
    "    if small:\n",
    "         print(\"pea.\")\n",
    "    else:\n",
    "         print(\"watermelon\")\n",
    "    else:\n",
    "        if small:\n",
    "            print(\"cherry\")\n",
    "        else:\n",
    "            print(\"pumpkin\")\n"
   ]
  },
  {
   "cell_type": "code",
   "execution_count": 14,
   "id": "7fa18419",
   "metadata": {},
   "outputs": [
    {
     "name": "stdout",
     "output_type": "stream",
     "text": [
      "3\n",
      "2\n",
      "1\n",
      "0\n"
     ]
    }
   ],
   "source": [
    "list = [3, 2, 1, 0]\n",
    "\n",
    "for x in range(len(list)):\n",
    "    print (list[x])"
   ]
  },
  {
   "cell_type": "code",
   "execution_count": 17,
   "id": "e9a941c5",
   "metadata": {},
   "outputs": [
    {
     "name": "stdout",
     "output_type": "stream",
     "text": [
      "Too low\n",
      "Enter number again: 7\n",
      "found it!!\n"
     ]
    }
   ],
   "source": [
    "guess_me = 7\n",
    "number = 1\n",
    "\n",
    "while guess_me != number:\n",
    "    if number < guess_me:\n",
    "        print(\"Too low\")\n",
    "        number = int(input(\"Enter number again: \"))\n",
    "    elif number > guess_me:\n",
    "        print(\"oops!\")\n",
    "        number = int(input(\"Enter number again: \"))\n",
    "    else:\n",
    "      break\n",
    "print(\"found it!!\")"
   ]
  },
  {
   "cell_type": "code",
   "execution_count": null,
   "id": "0e954d44",
   "metadata": {},
   "outputs": [],
   "source": [
    "guess_me = 5\n",
    "number = 1\n",
    "\n",
    "while guess_me != number:\n",
    "    if number < guess_me:\n",
    "        print(\"Too low\")\n",
    "        number = int(input(\"Enter number again: \"))\n",
    "    elif number > guess_me:\n",
    "        print(\"oops!\")\n",
    "        number = int(input(\"Enter number again: \"))\n",
    "    else:\n",
    "      break\n",
    "print(\"found it!!\")"
   ]
  }
 ],
 "metadata": {
  "kernelspec": {
   "display_name": "Python 3 (ipykernel)",
   "language": "python",
   "name": "python3"
  },
  "language_info": {
   "codemirror_mode": {
    "name": "ipython",
    "version": 3
   },
   "file_extension": ".py",
   "mimetype": "text/x-python",
   "name": "python",
   "nbconvert_exporter": "python",
   "pygments_lexer": "ipython3",
   "version": "3.9.13"
  }
 },
 "nbformat": 4,
 "nbformat_minor": 5
}
